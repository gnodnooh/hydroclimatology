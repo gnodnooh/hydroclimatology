{
  "nbformat": 4,
  "nbformat_minor": 0,
  "metadata": {
    "colab": {
      "provenance": [],
      "authorship_tag": "ABX9TyMSZQQLB2kiWfMXOAGWBZVZ",
      "include_colab_link": true
    },
    "kernelspec": {
      "name": "python3",
      "display_name": "Python 3"
    },
    "language_info": {
      "name": "python"
    }
  },
  "cells": [
    {
      "cell_type": "markdown",
      "metadata": {
        "id": "view-in-github",
        "colab_type": "text"
      },
      "source": [
        "<a href=\"https://colab.research.google.com/github/gnodnooh/hydroclimatology/blob/main/disaggregation.ipynb\" target=\"_parent\"><img src=\"https://colab.research.google.com/assets/colab-badge.svg\" alt=\"Open In Colab\"/></a>"
      ]
    },
    {
      "cell_type": "code",
      "source": [
        "# Load data\n",
        "import numpy as np\n",
        "from google.colab import drive\n",
        "drive.mount('/content/drive')\n",
        "obs_JAS_seas = np.loadtxt('/content/drive/MyDrive/lab_session/Koka_JAS_season_obs.txt')\n",
        "obs_JAS = np.loadtxt('/content/drive/MyDrive/lab_session/Koka_JAS_monthly_obs.txt')\n",
        "fcst_JAS_seas = np.loadtxt('/content/drive/MyDrive/lab_session/Koka_JAS_fcst.txt')\n",
        "# obs_JAS_seas = np.loadtxt('https://raw.githubusercontent.com/gnodnooh/hydroclimatology/main/Koka_JAS_season_obs.txt')\n",
        "# obs_JAS = np.loadtxt('https://raw.githubusercontent.com/gnodnooh/hydroclimatology/main/Koka_JAS_monthly_obs.txt')\n",
        "# fcst_JAS_seas = np.loadtxt('https://raw.githubusercontent.com/gnodnooh/hydroclimatology/main/Koka_JAS_fcst.txt')"
      ],
      "metadata": {
        "colab": {
          "base_uri": "https://localhost:8080/"
        },
        "id": "e3Zcm9A31-iI",
        "outputId": "e2145d1d-1ad1-4729-b067-16fbd8e86458"
      },
      "execution_count": 9,
      "outputs": [
        {
          "output_type": "stream",
          "name": "stdout",
          "text": [
            "Drive already mounted at /content/drive; to attempt to forcibly remount, call drive.mount(\"/content/drive\", force_remount=True).\n"
          ]
        }
      ]
    },
    {
      "cell_type": "code",
      "source": [
        "print(obs_JAS_seas)\n",
        "print('')\n",
        "print(obs_JAS)\n",
        "print('')\n",
        "print(fcst_JAS_seas)"
      ],
      "metadata": {
        "colab": {
          "base_uri": "https://localhost:8080/"
        },
        "id": "UG32y0BL2AG3",
        "outputId": "900be0c3-6a90-43cd-e297-46629df544ea"
      },
      "execution_count": 12,
      "outputs": [
        {
          "output_type": "stream",
          "name": "stdout",
          "text": [
            "[669.3 390.3 509.4 512.4 671.3 356.5 416.2 608.8 540.  601.1 508.2 600.4\n",
            " 531.3 489.9 388.3 496.7 458.5 520.2 475.1 491. ]\n",
            "\n",
            "[277.7 255.8 135.8 112.4 208.5  69.4 195.9 223.   90.5 210.7 220.4  81.3\n",
            " 277.8 279.2 114.3 197.1  92.1  67.3 139.4 208.4  68.4 224.9 209.2 174.7\n",
            " 154.9 276.4 108.7 260.3 224.9 115.9 220.2 216.2  71.8 236.7 253.4 110.3\n",
            " 293.9 161.5  75.9 242.1 132.6 115.2 158.7 156.4  73.2 203.3 205.1  88.3\n",
            " 207.1 185.1  66.3 181.3 233.6 105.3 232.2 170.   72.9 192.8 172.7 125.5]\n",
            "\n",
            "[511.7 462.1 587.5 476.1 535.6 510.1 485.6 554.4 492.1 529.  550.5 694.8\n",
            " 442.4 473.9 421.6 549.3 456.8 534.2 535.5 502.2]\n"
          ]
        }
      ]
    },
    {
      "cell_type": "code",
      "execution_count": 4,
      "metadata": {
        "id": "VBHrDxo0zGWN"
      },
      "outputs": [],
      "source": [
        "# Reshape obs_JAS into months (3) by years (20)\n",
        "obs_JAS_mo_yr = obs_JAS.reshape(3, 20)\n",
        "\n",
        "# Initialize an array to hold the forecasted monthly values\n",
        "fcst_mo = np.zeros((3, 20))\n",
        "\n",
        "# Loop over years and find analog\n",
        "for y in range(20):\n",
        "    diff_matrix = np.abs(fcst_JAS_seas[y] - obs_JAS_seas)  # Find the absolute difference\n",
        "    IX = np.argsort(diff_matrix)  # Get indices that would sort the difference matrix\n",
        "\n",
        "    if IX[0] == y:\n",
        "        analog_yr = IX[1]  # Choose second year if the first analog year is the same as loop year y\n",
        "    else:\n",
        "        analog_yr = IX[0]  # Choose first analog if it's not the same as loop year y\n",
        "\n",
        "    # Disaggregate forecast to monthly using the historical analog approach\n",
        "    fcst_mo[:, y] = (obs_JAS_mo_yr[:, analog_yr] * fcst_JAS_seas[y]) / np.sum(obs_JAS_mo_yr[:, analog_yr])\n",
        "\n",
        "# # Save the forecasted monthly values\n",
        "np.savetxt('/content/drive/MyDrive/lab_session/Precip_fcst_JAS.txt', fcst_mo)"
      ]
    }
  ]
}