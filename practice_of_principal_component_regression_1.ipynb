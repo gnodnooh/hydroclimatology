{
  "nbformat": 4,
  "nbformat_minor": 0,
  "metadata": {
    "colab": {
      "provenance": [],
      "authorship_tag": "ABX9TyOeXe4XQZf+mBc6gr+v9xvg",
      "include_colab_link": true
    },
    "kernelspec": {
      "name": "python3",
      "display_name": "Python 3"
    },
    "language_info": {
      "name": "python"
    }
  },
  "cells": [
    {
      "cell_type": "markdown",
      "metadata": {
        "id": "view-in-github",
        "colab_type": "text"
      },
      "source": [
        "<a href=\"https://colab.research.google.com/github/gnodnooh/hydroclimatology/blob/main/practice_of_principal_component_regression_1.ipynb\" target=\"_parent\"><img src=\"https://colab.research.google.com/assets/colab-badge.svg\" alt=\"Open In Colab\"/></a>"
      ]
    },
    {
      "cell_type": "markdown",
      "source": [
        "# Practice of Principal Component Regression\n",
        "Prepared by Donghoon Lee (Donghoon.Lee@umanitoba.ca)"
      ],
      "metadata": {
        "id": "ufWzJHZ7_t6m"
      }
    },
    {
      "cell_type": "code",
      "source": [
        "import numpy as np\n",
        "import pandas as pd\n",
        "from sklearn.decomposition import PCA\n",
        "from sklearn.linear_model import LinearRegression\n",
        "from sklearn.preprocessing import StandardScaler\n",
        "from sklearn.metrics import r2_score"
      ],
      "metadata": {
        "id": "0ElhU7xEiN1v"
      },
      "execution_count": 1,
      "outputs": []
    },
    {
      "cell_type": "markdown",
      "source": [
        "## We use the Diabetes data\n",
        "Ten baseline variables, age, sex, body mass index, average blood pressure, and six blood serum measurements were obtained for each of n = 442 diabetes patients, as well as the response of interest, a quantitative measure of disease progression one year after baseline.\n",
        "\n",
        "See more details about the data at [here](https://scikit-learn.org/1.5/datasets/toy_dataset.html#diabetes-dataset:~:text=7.1.2.%20Diabetes%20dataset,-%23)."
      ],
      "metadata": {
        "id": "M3R7A1bO-KwJ"
      }
    },
    {
      "cell_type": "code",
      "source": [
        "# Loading example dataset (you would replace this with your own data)\n",
        "# Assuming 'X' is a (442x10) matrix, and 'y' is a (442x1) vector.\n",
        "# Here, X and y should be replaced with actual data.\n",
        "from sklearn.datasets import load_diabetes\n",
        "data = load_diabetes()\n",
        "X = data.data           # Features (replace this with actual NIR data)\n",
        "y = data.target   # Target (replace this with actual octane data)\n",
        "print(X.shape)\n",
        "print(y.shape)"
      ],
      "metadata": {
        "colab": {
          "base_uri": "https://localhost:8080/"
        },
        "id": "xn3F0jlCiRAt",
        "outputId": "101a3c8f-41fc-4f73-8ec6-dc47ae1d50d5"
      },
      "execution_count": 2,
      "outputs": [
        {
          "output_type": "stream",
          "name": "stdout",
          "text": [
            "(442, 10)\n",
            "(442,)\n"
          ]
        }
      ]
    },
    {
      "cell_type": "markdown",
      "source": [
        "## Covariance matrix and Correlation matrix"
      ],
      "metadata": {
        "id": "SHJGe9dX4NEJ"
      }
    },
    {
      "cell_type": "code",
      "source": [
        "print('Covariance matrix')\n",
        "cov_matrix = np.cov(X, rowvar=False)\n",
        "print(cov_matrix.round(3))\n",
        "print()\n",
        "print('Correlation matrix')\n",
        "corr_matrix = np.corrcoef(X, rowvar=False)\n",
        "print(corr_matrix.round(3))"
      ],
      "metadata": {
        "colab": {
          "base_uri": "https://localhost:8080/"
        },
        "id": "lmhFhWnm35Zf",
        "outputId": "36aa3c89-b0c8-4ed0-f781-3c261d455ae8"
      },
      "execution_count": 3,
      "outputs": [
        {
          "output_type": "stream",
          "name": "stdout",
          "text": [
            "Covariance matrix\n",
            "[[ 0.002  0.     0.     0.001  0.001  0.    -0.     0.     0.001  0.001]\n",
            " [ 0.     0.002  0.     0.001  0.     0.    -0.001  0.001  0.     0.   ]\n",
            " [ 0.     0.     0.002  0.001  0.001  0.001 -0.001  0.001  0.001  0.001]\n",
            " [ 0.001  0.001  0.001  0.002  0.001  0.    -0.     0.001  0.001  0.001]\n",
            " [ 0.001  0.     0.001  0.001  0.002  0.002  0.     0.001  0.001  0.001]\n",
            " [ 0.     0.     0.001  0.     0.002  0.002 -0.     0.001  0.001  0.001]\n",
            " [-0.    -0.001 -0.001 -0.     0.    -0.     0.002 -0.002 -0.001 -0.001]\n",
            " [ 0.     0.001  0.001  0.001  0.001  0.001 -0.002  0.002  0.001  0.001]\n",
            " [ 0.001  0.     0.001  0.001  0.001  0.001 -0.001  0.001  0.002  0.001]\n",
            " [ 0.001  0.     0.001  0.001  0.001  0.001 -0.001  0.001  0.001  0.002]]\n",
            "\n",
            "Correlation matrix\n",
            "[[ 1.     0.174  0.185  0.335  0.26   0.219 -0.075  0.204  0.271  0.302]\n",
            " [ 0.174  1.     0.088  0.241  0.035  0.143 -0.379  0.332  0.15   0.208]\n",
            " [ 0.185  0.088  1.     0.395  0.25   0.261 -0.367  0.414  0.446  0.389]\n",
            " [ 0.335  0.241  0.395  1.     0.242  0.186 -0.179  0.258  0.393  0.39 ]\n",
            " [ 0.26   0.035  0.25   0.242  1.     0.897  0.052  0.542  0.516  0.326]\n",
            " [ 0.219  0.143  0.261  0.186  0.897  1.    -0.196  0.66   0.318  0.291]\n",
            " [-0.075 -0.379 -0.367 -0.179  0.052 -0.196  1.    -0.738 -0.399 -0.274]\n",
            " [ 0.204  0.332  0.414  0.258  0.542  0.66  -0.738  1.     0.618  0.417]\n",
            " [ 0.271  0.15   0.446  0.393  0.516  0.318 -0.399  0.618  1.     0.465]\n",
            " [ 0.302  0.208  0.389  0.39   0.326  0.291 -0.274  0.417  0.465  1.   ]]\n"
          ]
        }
      ]
    },
    {
      "cell_type": "markdown",
      "source": [
        "## Data normalization\n",
        "\n",
        "Normalization (or standardization) transforms the data so that it has a mean of 0 and a standard deviation of 1. This is expressed as:\n",
        "\n",
        "> $$\n",
        "X_{standardized} = \\frac{X - \\mu_X}{\\sigma_X}\n",
        "$$\n",
        "\n",
        "Question: Is it better to apply normalization before PCA? Why? How about the dataset we are using?\n",
        "\n",
        "\n",
        "<!-- Answer:\n",
        "\n",
        "Yes, it is generally better to apply normalization before performing Principal Component Analysis (PCA). The reason is that PCA is sensitive to the scale of the variables. If the features in the dataset have different units or scales, variables with larger ranges can dominate the principal components, leading to misleading results. Normalization ensures that each feature contributes equally to the analysis, making PCA more effective in identifying the true patterns in the data.\n",
        "\n",
        "For the dataset we are using (diabetes data), normalization is essential because the features (such as age, BMI, blood pressure, etc.) may have different ranges. By standardizing the data, we ensure that each principal component captures meaningful variations across all features. -->\n"
      ],
      "metadata": {
        "id": "xfrkufP4Cdpj"
      }
    },
    {
      "cell_type": "code",
      "source": [
        "scaler_X = StandardScaler()\n",
        "X = scaler_X.fit_transform(X)"
      ],
      "metadata": {
        "id": "-gGyf2g_iRpB"
      },
      "execution_count": 4,
      "outputs": []
    },
    {
      "cell_type": "code",
      "source": [
        "print('Covariance matrix')\n",
        "cov_matrix = np.cov(X, rowvar=False)\n",
        "print(cov_matrix.round(3))"
      ],
      "metadata": {
        "colab": {
          "base_uri": "https://localhost:8080/"
        },
        "id": "2atGeYow3W7y",
        "outputId": "730273b8-2a9c-42ea-adc7-502c2543211f"
      },
      "execution_count": 5,
      "outputs": [
        {
          "output_type": "stream",
          "name": "stdout",
          "text": [
            "Covariance matrix\n",
            "[[ 1.002  0.174  0.186  0.336  0.261  0.22  -0.075  0.204  0.271  0.302]\n",
            " [ 0.174  1.002  0.088  0.242  0.035  0.143 -0.38   0.333  0.15   0.209]\n",
            " [ 0.186  0.088  1.002  0.396  0.25   0.262 -0.368  0.415  0.447  0.39 ]\n",
            " [ 0.336  0.242  0.396  1.002  0.243  0.186 -0.179  0.258  0.394  0.391]\n",
            " [ 0.261  0.035  0.25   0.243  1.002  0.899  0.052  0.543  0.517  0.326]\n",
            " [ 0.22   0.143  0.262  0.186  0.899  1.002 -0.197  0.661  0.319  0.291]\n",
            " [-0.075 -0.38  -0.368 -0.179  0.052 -0.197  1.002 -0.74  -0.399 -0.274]\n",
            " [ 0.204  0.333  0.415  0.258  0.543  0.661 -0.74   1.002  0.619  0.418]\n",
            " [ 0.271  0.15   0.447  0.394  0.517  0.319 -0.399  0.619  1.002  0.466]\n",
            " [ 0.302  0.209  0.39   0.391  0.326  0.291 -0.274  0.418  0.466  1.002]]\n"
          ]
        }
      ]
    },
    {
      "cell_type": "markdown",
      "source": [
        "## Multiple Linear Regression model\n",
        "\n",
        "The MLR is expressed as\n",
        "\n",
        "> $$\n",
        "y = X\\beta + \\epsilon, \\quad (1)\n",
        "$$\n",
        "\n",
        "where $y$ is a vector of $n$ observations on the dependent variable, measured about their mean, $X$ is an ($n \\times p$) matrix whose ($i, j$)th element is the value of the $j$th predictor (or regressor) variable for the ith observation, again measured about its mean, $\\beta$ is a vector of $p$ regression coefficients and $\\epsilon$ is a vector of error terms."
      ],
      "metadata": {
        "id": "YUpFcX2EVYEc"
      }
    },
    {
      "cell_type": "code",
      "source": [
        "# Initialize and train the Multiple Linear Regression model\n",
        "mlr_model = LinearRegression()\n",
        "mlr_model.fit(X, y)\n",
        "beta = mlr_model.coef_\n",
        "print(beta.round(3))\n",
        "y_hat_mlr = mlr_model.predict(X)"
      ],
      "metadata": {
        "colab": {
          "base_uri": "https://localhost:8080/"
        },
        "id": "bbMVyYxrP9ji",
        "outputId": "a63f9c28-cec1-46a0-ac24-c45b935e6940"
      },
      "execution_count": 6,
      "outputs": [
        {
          "output_type": "stream",
          "name": "stdout",
          "text": [
            "[ -0.476 -11.407  24.727  15.429 -37.68   22.676   4.806   8.422  35.734\n",
            "   3.217]\n"
          ]
        }
      ]
    },
    {
      "cell_type": "code",
      "source": [
        "df = pd.DataFrame({'y': y, 'y_hat': y_hat_mlr})\n",
        "df.plot(x='y', y='y_hat', kind='scatter', s=32, alpha=.8)\n",
        "print('correlation:\\t', np.round(df.corr().values[0, 1], 3))\n",
        "print('r-squared:\\t', np.round(r2_score(y, y_hat_mlr),3))"
      ],
      "metadata": {
        "colab": {
          "base_uri": "https://localhost:8080/",
          "height": 486
        },
        "id": "65RTwY9hw8Fh",
        "outputId": "63213617-6145-4d7c-b455-5ddcca777abd"
      },
      "execution_count": 7,
      "outputs": [
        {
          "output_type": "stream",
          "name": "stdout",
          "text": [
            "correlation:\t 0.72\n",
            "r-squared:\t 0.518\n"
          ]
        },
        {
          "output_type": "display_data",
          "data": {
            "text/plain": [
              "<Figure size 640x480 with 1 Axes>"
            ],
            "image/png": "[encoded data removed]"
          },
          "metadata": {}
        }
      ]
    },
    {
      "cell_type": "markdown",
      "source": [
        "## Principal Component Analysis (PCA)\n",
        "\n",
        "The value of the PCs for each observation are given by\n",
        "\n",
        "> $$\n",
        "Z = XA, \\quad (2)\n",
        "$$\n",
        "\n",
        "where the ($i, k$)th element of $Z$ is the value (score) of the $k$th PC for the $i$th observation, and $A$ is a ($p \\times p$) matrix whose $k$th column is the $k$th eigenvector of $X'X$.\n"
      ],
      "metadata": {
        "id": "gIXar-v2Clyo"
      }
    },
    {
      "cell_type": "code",
      "source": [
        "pca = PCA(n_components=X.shape[1])\n",
        "Z = pca.fit_transform(X)  # Z is PC matrix (n x p)\n",
        "A = pca.components_       # A is Eigenvector (p x p)\n",
        "print(pca.components_.shape)\n",
        "print(Z.shape)"
      ],
      "metadata": {
        "colab": {
          "base_uri": "https://localhost:8080/"
        },
        "id": "q6xFCC1ECpwT",
        "outputId": "27bd8fe6-8b4b-4014-efab-e48c24bd8300"
      },
      "execution_count": 8,
      "outputs": [
        {
          "output_type": "stream",
          "name": "stdout",
          "text": [
            "(10, 10)\n",
            "(442, 10)\n"
          ]
        }
      ]
    },
    {
      "cell_type": "markdown",
      "source": [
        "Check the variance explained by each principal component (PC). Accumulate these values to determine the number of PCs you would like to retain.\n",
        "\n",
        "Hint: 80%"
      ],
      "metadata": {
        "id": "3CbzePCbQaub"
      }
    },
    {
      "cell_type": "code",
      "source": [
        "var_explained = pca.explained_variance_ratio_ # Eigenvalues\n",
        "print('Variance explained')\n",
        "print(var_explained.round(3))\n",
        "print('Cumulative variance explained')\n",
        "print(np.cumsum(var_explained).round(3))"
      ],
      "metadata": {
        "colab": {
          "base_uri": "https://localhost:8080/"
        },
        "id": "rJbR0w7ez4gX",
        "outputId": "661e0d6b-5337-4dd6-8728-7ada5ebd9db9"
      },
      "execution_count": 9,
      "outputs": [
        {
          "output_type": "stream",
          "name": "stdout",
          "text": [
            "Variance explained\n",
            "[0.402 0.149 0.121 0.096 0.066 0.06  0.054 0.043 0.008 0.001]\n",
            "Cumulative variance explained\n",
            "[0.402 0.552 0.672 0.768 0.834 0.894 0.948 0.991 0.999 1.   ]\n"
          ]
        }
      ]
    },
    {
      "cell_type": "code",
      "source": [
        "# Is correlation matrix used for PCA analysis?\n",
        "print(pca.get_covariance().round(3))"
      ],
      "metadata": {
        "colab": {
          "base_uri": "https://localhost:8080/"
        },
        "id": "C3kcBpLDzjeL",
        "outputId": "b32955b5-6f2a-4c7e-d6d3-02177496f53a"
      },
      "execution_count": 10,
      "outputs": [
        {
          "output_type": "stream",
          "name": "stdout",
          "text": [
            "[[ 1.002  0.174  0.186  0.336  0.261  0.22  -0.075  0.204  0.271  0.302]\n",
            " [ 0.174  1.002  0.088  0.242  0.035  0.143 -0.38   0.333  0.15   0.209]\n",
            " [ 0.186  0.088  1.002  0.396  0.25   0.262 -0.368  0.415  0.447  0.39 ]\n",
            " [ 0.336  0.242  0.396  1.002  0.243  0.186 -0.179  0.258  0.394  0.391]\n",
            " [ 0.261  0.035  0.25   0.243  1.002  0.899  0.052  0.543  0.517  0.326]\n",
            " [ 0.22   0.143  0.262  0.186  0.899  1.002 -0.197  0.661  0.319  0.291]\n",
            " [-0.075 -0.38  -0.368 -0.179  0.052 -0.197  1.002 -0.74  -0.399 -0.274]\n",
            " [ 0.204  0.333  0.415  0.258  0.543  0.661 -0.74   1.002  0.619  0.418]\n",
            " [ 0.271  0.15   0.447  0.394  0.517  0.319 -0.399  0.619  1.002  0.466]\n",
            " [ 0.302  0.209  0.39   0.391  0.326  0.291 -0.274  0.418  0.466  1.002]]\n"
          ]
        }
      ]
    },
    {
      "cell_type": "markdown",
      "source": [
        "## PCR Model 1: Using principal components as predictors\n",
        "\n",
        "Because $A$ is orthogonal, $X\\beta$ can be rewritten as $XAA'\\beta = Z\\gamma$, where $\\gamma=A'\\beta$. The MLR equation can therefore be written as:\n",
        "\n",
        "> $$\n",
        "y = Z\\gamma + \\epsilon \\quad (3)\n",
        "$$\n",
        "\n",
        "which has simply replaced the predictor variables by their principal components (PCs) in the regression model. Principal component regression (PCR) can be defined as the use of the model or of the reduced model:\n",
        "\n",
        "\n",
        "> $$\n",
        "y = Z_m\\gamma_m + \\epsilon_m, \\quad (4)\n",
        "$$\n",
        "\n",
        "where $\\gamma_m$ is a vector of $m$ elements that are a subset of elements of $\\gamma$, $Z_m$ is an $n \\times m$ matrix whose columns are the corresponding subset of columns of $Z$, and $\\epsilon_m$ is the appropriate error term.\n",
        "\n",
        "When you fit a PCR model on the standardized $X$, the predictions  $\\hat{y}$ you get are based on this centered version of $y$. Therefore, the predicted $\\hat{y}$ values are also mean-centered and will not reflect the original scale of $y$.\n",
        "\n"
      ],
      "metadata": {
        "id": "bzYjSUljFDZg"
      }
    },
    {
      "cell_type": "code",
      "source": [
        "npc = 5  # number of retained PCs\n",
        "gamma = LinearRegression().fit(Z[:, :npc], y).coef_\n",
        "print(gamma.round(3))\n",
        "y_hat_pcr1 = Z[:, :npc].dot(gamma)\n",
        "y_hat_pcr1 = y_hat_pcr1 + y.mean()\n",
        "print('r-squared:\\t', np.round(r2_score(y, y_hat_pcr1),3))"
      ],
      "metadata": {
        "colab": {
          "base_uri": "https://localhost:8080/"
        },
        "id": "fWP9oDXeltyu",
        "outputId": "16e37a74-f63d-429f-ca20-13336385fa4e"
      },
      "execution_count": 11,
      "outputs": [
        {
          "output_type": "stream",
          "name": "stdout",
          "text": [
            "[ 21.318 -12.212  11.332 -28.211   0.794]\n",
            "r-squared:\t 0.5\n"
          ]
        }
      ]
    },
    {
      "cell_type": "markdown",
      "source": [
        "## PCR Model 2: Using original features as predictors\n",
        "\n",
        "Using least squares to estimate $\\gamma$ in (3) and then finding an estimate for $\\beta$ from the equation:\n",
        "\n",
        "> $$\n",
        "\\beta = A\\gamma \\quad (5)\n",
        "$$\n",
        "\n",
        "is equivalent to finding $\\beta$ by applying least squares directly to (1)."
      ],
      "metadata": {
        "id": "14Zzvzz9FJfg"
      }
    },
    {
      "cell_type": "code",
      "source": [
        "beta = pca.components_[:npc, :].T.dot(gamma)  # Transform gamma to beta\n",
        "print(beta.round(3))\n",
        "y_hat_pcr2 = X.dot(beta)\n",
        "y_hat_pcr2 = y_hat_pcr2 + y.mean()\n",
        "print('r-squared:\\t', np.round(r2_score(y, y_hat_pcr1),3))\n",
        "print(f'Corr(PCR1, PCR2): {np.corrcoef(y_hat_pcr1, y_hat_pcr2)[0, 1]:.3f}')  # This should be 1\n",
        "print(f'Corr(MLR, PCR2): {np.corrcoef(y_hat_mlr, y_hat_pcr2)[0,1]:.3f}')"
      ],
      "metadata": {
        "colab": {
          "base_uri": "https://localhost:8080/"
        },
        "id": "dDCELwYBFXP9",
        "outputId": "4b577fdb-5629-4783-f562-603448ea3303"
      },
      "execution_count": 12,
      "outputs": [
        {
          "output_type": "stream",
          "name": "stdout",
          "text": [
            "[ -1.457 -11.98   24.268  12.36   -2.489  -5.949 -10.168   5.998  16.692\n",
            "  13.475]\n",
            "r-squared:\t 0.5\n",
            "Corr(PCR1, PCR2): 1.000\n",
            "Corr(MLR, PCR2): 0.983\n"
          ]
        }
      ]
    },
    {
      "cell_type": "markdown",
      "source": [
        "Adjust the number of retained principal components (npc) to match the number of predictors, and then re-run the two cells above.\n",
        "\n"
      ],
      "metadata": {
        "id": "4OpThQ48T5HT"
      }
    },
    {
      "cell_type": "markdown",
      "source": [
        "## PCR Model 2: Forecasting practice\n",
        "We split the data 70% for training and 30% for testing."
      ],
      "metadata": {
        "id": "VlBL2Qx4FcqV"
      }
    },
    {
      "cell_type": "code",
      "source": [
        "from sklearn.model_selection import train_test_split\n",
        "from sklearn.datasets import load_diabetes\n",
        "X, y = load_diabetes(return_X_y=True)\n",
        "\n",
        "# Data split\n",
        "X_train, X_test, y_train, y_test = train_test_split(X, y, test_size=0.3, random_state=42)\n",
        "print(f\"X_train shape: {X_train.shape}\")\n",
        "print(f\"y_train shape: {y_train.shape}\")\n",
        "print(f\"X_test shape: {X_test.shape}\")\n",
        "print(f\"y_test shape: {y_test.shape}\")"
      ],
      "metadata": {
        "colab": {
          "base_uri": "https://localhost:8080/"
        },
        "id": "1dD_7hVdnnBA",
        "outputId": "a28fa880-b523-49e6-d046-739725ce79da"
      },
      "execution_count": 13,
      "outputs": [
        {
          "output_type": "stream",
          "name": "stdout",
          "text": [
            "X_train shape: (309, 10)\n",
            "y_train shape: (309,)\n",
            "X_test shape: (133, 10)\n",
            "y_test shape: (133,)\n"
          ]
        }
      ]
    },
    {
      "cell_type": "code",
      "source": [
        "# Normalization based on X_train\n",
        "scaler_X = StandardScaler()\n",
        "X = scaler_X.fit_transform(X_train)\n",
        "\n",
        "# PCR2 modeling based on training data\n",
        "pca = PCA(n_components=X_train.shape[1])\n",
        "Z = pca.fit_transform(X_train)\n",
        "print(np.cumsum(pca.explained_variance_ratio_.round(3)))\n",
        "npc = 5 # Adjust npc\n",
        "gamma = LinearRegression().fit(Z[:, :npc], y_train).coef_\n",
        "beta = pca.components_[:npc, :].T.dot(gamma)\n",
        "print(gamma.round(3))\n",
        "print(beta.round(3))\n",
        "y_train_hat = X_train.dot(beta) + y_train.mean()\n",
        "\n",
        "# PCR2 Forecast on testing data\n",
        "y_test_hat = X_test.dot(beta) + y_train.mean()\n",
        "\n",
        "# Results\n",
        "print(f'Corr(yTran, yTranHat): {np.corrcoef(y_train, y_train_hat)[0, 1]:.3f}')\n",
        "print(f'Corr(yTest, yTestHat): {np.corrcoef(y_test, y_test_hat)[0, 1]:.3f}')\n",
        "print(f'R2(yTran, yTranHat): {r2_score(y_train, y_train_hat):.3f}')\n",
        "print(f'R2(yTest, yTestHat): {r2_score(y_test, y_test_hat):.3f}')"
      ],
      "metadata": {
        "colab": {
          "base_uri": "https://localhost:8080/"
        },
        "id": "tF4qnPxzFfvQ",
        "outputId": "e281a59f-0daa-4bd8-e461-72b095233600"
      },
      "execution_count": 18,
      "outputs": [
        {
          "output_type": "stream",
          "name": "stdout",
          "text": [
            "[0.399 0.546 0.671 0.768 0.834 0.894 0.948 0.992 1.    1.001]\n",
            "[ 448.998 -287.102  397.038 -488.625  -22.296]\n",
            "[ -14.92  -242.884  498.89   299.629  -76.363 -137.13  -223.07   122.871\n",
            "  316.208  305.863]\n",
            "Corr(yTran, yTranHat): 0.708\n",
            "Corr(yTest, yTestHat): 0.696\n",
            "R2(yTran, yTranHat): 0.500\n",
            "R2(yTest, yTestHat): 0.484\n"
          ]
        }
      ]
    }
  ]
}