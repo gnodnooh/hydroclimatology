{
  "nbformat": 4,
  "nbformat_minor": 0,
  "metadata": {
    "colab": {
      "provenance": [],
      "authorship_tag": "ABX9TyM5k4Nvfy6eD4qwgpt586fr",
      "include_colab_link": true
    },
    "kernelspec": {
      "name": "python3",
      "display_name": "Python 3"
    },
    "language_info": {
      "name": "python"
    }
  },
  "cells": [
    {
      "cell_type": "markdown",
      "metadata": {
        "id": "view-in-github",
        "colab_type": "text"
      },
      "source": [
        "<a href=\"https://colab.research.google.com/github/gnodnooh/hydroclimatology/blob/main/ABCD_sim.ipynb\" target=\"_parent\"><img src=\"https://colab.research.google.com/assets/colab-badge.svg\" alt=\"Open In Colab\"/></a>"
      ]
    },
    {
      "cell_type": "code",
      "source": [
        "import numpy as np\n",
        "import matplotlib.pyplot as plt\n",
        "\n",
        "# Load data\n",
        "from google.colab import drive\n",
        "drive.mount('/content/drive')\n",
        "prec_fcst = np.loadtxt('/content/drive/MyDrive/lab_session/Precip_fcst_JAS.txt')  # Precipitation forecast data\n",
        "prec_clim = np.loadtxt('/content/drive/MyDrive/lab_session/Koka_Precip_climatology.txt')  # Precipitation climatology data\n",
        "evap_clim = np.loadtxt('/content/drive/MyDrive/lab_session/Koka_evap.txt')  # Evaporation climatology\n",
        "obs = np.loadtxt('/content/drive/MyDrive/lab_session/Koka_SF_obs_81_00.txt')  # Observed data\n",
        "\n",
        "print('Precipitation forecast data shape:', prec_fcst.shape)\n",
        "print('Precipitation climatology data shape:', prec_clim.shape)\n",
        "print('Evaporation climatology shape:', evap_clim.shape)\n",
        "print('Observed data shape:', obs.shape)"
      ],
      "metadata": {
        "id": "jCLk5sMD7SJH"
      },
      "execution_count": null,
      "outputs": []
    },
    {
      "cell_type": "code",
      "source": [
        "# Combine precipitation forecast and climatology\n",
        "prec_mo_yr = np.tile(prec_clim[:,None], (1, 20))  # Make 20 years of monthly climatology precipitation\n",
        "prec_mo_yr[6:9, :] = prec_fcst  # Substitute in forecast values for Jul-Sept (indices 7-9 in MATLAB)\n",
        "prec = prec_mo_yr.T.flatten()\n",
        "prec.shape"
      ],
      "metadata": {
        "id": "th4YizMT7cOv"
      },
      "execution_count": null,
      "outputs": []
    },
    {
      "cell_type": "code",
      "source": [
        "# Make climatological evaporation for 20 years\n",
        "evap = np.tile(evap_clim, (1, 20)).flatten()\n",
        "evap.shape"
      ],
      "metadata": {
        "id": "9IO1EIFy8W96"
      },
      "execution_count": null,
      "outputs": []
    },
    {
      "cell_type": "code",
      "execution_count": null,
      "metadata": {
        "id": "ewgwkEuu6iLL"
      },
      "outputs": [],
      "source": [
        "# Parameters\n",
        "a = 0.9\n",
        "b = 285\n",
        "c = -5\n",
        "d = 0\n",
        "# For IGUATU, use parameters below:\n",
        "# a = 0.984\n",
        "# b = 284.009\n",
        "# c = 0.488\n",
        "# d = 0\n",
        "\n",
        "# Define number of periods (months) plus 1 for initialization period\n",
        "NPER = len(prec)\n",
        "\n",
        "# Define variables. First entry is for initialization period\n",
        "W = np.zeros(NPER)\n",
        "S = np.zeros(NPER)\n",
        "Y = np.zeros(NPER)\n",
        "E = np.zeros(NPER)  # E is not used in the original MATLAB code\n",
        "G = np.zeros(NPER)\n",
        "Qmod = np.zeros(NPER)\n",
        "\n",
        "# Loop for soil moisture accounting and surface runoff\n",
        "for i in range(NPER - 1):\n",
        "    W[i + 1] = prec[i + 1] + S[i]\n",
        "    Y[i + 1] = ((W[i + 1] + b) / (2 * a)) - np.sqrt(((W[i + 1] + b) / (2 * a))**2 - (W[i + 1] * b) / a)\n",
        "    S[i + 1] = Y[i + 1] * np.exp(-evap[i + 1] / b)\n",
        "    G[i + 1] = (c * (W[i + 1] - Y[i + 1]) + G[i]) / (1 + d)\n",
        "    Qmod[i + 1] = (1 - c) * (W[i + 1] - Y[i + 1]) + d * G[i + 1]\n",
        "\n",
        "# Plot observed vs modeled\n",
        "fig = plt.figure(figsize=(10, 6))\n",
        "plt.plot(range(240), obs, 'k', label='obs')\n",
        "plt.plot(range(240), Qmod, 'b', label='model')\n",
        "plt.legend()\n",
        "plt.xlabel('Months')\n",
        "plt.ylabel('Streamflow')\n",
        "plt.title('Observed vs Modeled Streamflow')\n",
        "plt.show()\n",
        "\n",
        "# Calculate and print the correlation coefficient\n",
        "corr_coef = np.corrcoef(obs, Qmod)\n",
        "print(f'Correlation Coefficient:\\n{corr_coef}')"
      ]
    }
  ]
}