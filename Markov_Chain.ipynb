{
  "nbformat": 4,
  "nbformat_minor": 0,
  "metadata": {
    "colab": {
      "provenance": [],
      "authorship_tag": "ABX9TyPSJFPAvYL+36jd9qkv6Fst",
      "include_colab_link": true
    },
    "kernelspec": {
      "name": "python3",
      "display_name": "Python 3"
    },
    "language_info": {
      "name": "python"
    }
  },
  "cells": [
    {
      "cell_type": "markdown",
      "metadata": {
        "id": "view-in-github",
        "colab_type": "text"
      },
      "source": [
        "<a href=\"https://colab.research.google.com/github/gnodnooh/hydroclimatology/blob/main/Markov_Chain.ipynb\" target=\"_parent\"><img src=\"https://colab.research.google.com/assets/colab-badge.svg\" alt=\"Open In Colab\"/></a>"
      ]
    },
    {
      "cell_type": "markdown",
      "source": [
        "# Practice of Markov Chain\n",
        "\n",
        "Prepared by Donghoon Lee (Donghoon.Lee@umanitoba.ca)\n",
        "\n",
        "In order to make edits to this notebook, you should press File > \"Save a Copy in Drive\". This will ensure that any edits will be on your local copy, and they will not affect the notebook shared with everyone else."
      ],
      "metadata": {
        "id": "3hK4D0HK9DgT"
      }
    },
    {
      "cell_type": "markdown",
      "source": [
        "This is our transition matrix between rain and dry states.\n",
        "\n",
        "|    |  | Next State ($P_t$)    |    |          |            \n",
        "|-----------|-----------------------|-------|------------|------------|\n",
        "|          | | Rain                 | Dry        |            |\n",
        "| **Initial State (\\$P_{t-1}$)** | Rain | 0.2        | 0.8        |\n",
        "|           | Dry              | 0.1        | 0.9        |"
      ],
      "metadata": {
        "id": "xAPuxo8F9ymC"
      }
    },
    {
      "cell_type": "code",
      "source": [
        "import numpy as np\n",
        "\n",
        "# Transition matrix\n",
        "P = np.array([[0.2, 0.8],\n",
        "              [0.1, 0.9]])\n",
        "\n",
        "# Initial state probabilities (this can be obtained from historical observation)\n",
        "P0 = np.array([0.125, 0.875])  # [Rain, Dry]"
      ],
      "metadata": {
        "id": "oXrWKyZB93on"
      },
      "execution_count": 2,
      "outputs": []
    },
    {
      "cell_type": "markdown",
      "source": [
        "### (1) What is the probability that there is rain on the third day?  \n",
        "\n",
        "$P_0 P^2 = [0.125 \\quad 0.875] \\begin{bmatrix} 0.2 & 0.8 \\\\ 0.1 & 0.9 \\end{bmatrix}^2$"
      ],
      "metadata": {
        "id": "8EvBtF5f-kbI"
      }
    },
    {
      "cell_type": "code",
      "execution_count": 6,
      "metadata": {
        "colab": {
          "base_uri": "https://localhost:8080/"
        },
        "id": "6Q3adIcH7C1c",
        "outputId": "c0a34b68-db33-4c33-9ac4-eea3788b2ce5"
      },
      "outputs": [
        {
          "output_type": "stream",
          "name": "stdout",
          "text": [
            "Probability on the 3rd day:\n",
            "Rain: 0.1113, Dry: 0.8888\n"
          ]
        }
      ],
      "source": [
        "# Calculate probability on the 3rd day (P0 * P^2)\n",
        "P2 = np.linalg.matrix_power(P, 2)\n",
        "P_third_day = np.dot(P0, P2)\n",
        "\n",
        "print(\"Probability on the 3rd day:\")\n",
        "print(f\"Rain: {P_third_day[0]:.4f}, Dry: {P_third_day[1]:.4f}\")"
      ]
    },
    {
      "cell_type": "markdown",
      "source": [
        "### (2) What is the probability that there is rain on the nth day, where n is large?\n",
        "\n",
        "The probability that there is rain on the $n$th day is\n",
        "\n",
        "$P_0 P^n = [0.125 \\quad 0.875] \\begin{bmatrix} 0.2 & 0.8 \\\\ 0.1 & 0.9 \\end{bmatrix}^n $\n",
        "\n",
        "\n",
        "And, if $n$ becomes large:\n",
        "\n",
        "$lim_{n \\to \\infty} P^n =\n",
        "\\begin{bmatrix}\n",
        "0.1111 & 0.8889 \\\\\n",
        "0.1111 & 0.8889\n",
        "\\end{bmatrix}\n",
        "$\n",
        "\n",
        "So, the probability that there is rain on the $n$th day is\n",
        "\n",
        "$lim_{n \\to \\infty} P_0 P^n =\n",
        "[0.125 \\quad 0.875]\\begin{bmatrix}\n",
        "0.1111 & 0.8889 \\\\\n",
        "0.1111 & 0.8889\n",
        "\\end{bmatrix}\n",
        "$"
      ],
      "metadata": {
        "id": "_H6B5sRE-t9M"
      }
    },
    {
      "cell_type": "code",
      "source": [
        "# Approach 1 (Direct Computation)\n",
        "print('Approach 1')\n",
        "P_inf = np.linalg.matrix_power(P, 3)\n",
        "print(\"\\nProbability on the nth day (n -> infinity):\")\n",
        "print(f\"Rain: {P_inf[0, 0]:.7f}, Dry: {P_inf[0, 1]:.7f}\")\n",
        "\n",
        "# Approach 2 (Eigenvector Method)\n",
        "# Steady-state probabilities as n -> infinity\n",
        "eigenvalues, eigenvectors = np.linalg.eig(P.T)\n",
        "steady_state = eigenvectors[:, np.isclose(eigenvalues, 1)].flatten().real\n",
        "steady_state /= steady_state.sum()  # Normalize\n",
        "print('')\n",
        "print('Approach 2')\n",
        "print(\"\\nSteady-state probabilities (n -> infinity):\")\n",
        "print(f\"Rain: {steady_state[0]:.7f}, Dry: {steady_state[1]:.7f}\")"
      ],
      "metadata": {
        "colab": {
          "base_uri": "https://localhost:8080/"
        },
        "id": "diFnzXDp-wVU",
        "outputId": "3c373be2-f83d-4b72-9299-3e2cc0165e0e"
      },
      "execution_count": 19,
      "outputs": [
        {
          "output_type": "stream",
          "name": "stdout",
          "text": [
            "Approach 1\n",
            "\n",
            "Probability on the nth day (n -> infinity):\n",
            "Rain: 0.1120000, Dry: 0.8880000\n",
            "\n",
            "Approach 2\n",
            "\n",
            "Steady-state probabilities (n -> infinity):\n",
            "Rain: 0.1111111, Dry: 0.8888889\n"
          ]
        }
      ]
    }
  ]
}